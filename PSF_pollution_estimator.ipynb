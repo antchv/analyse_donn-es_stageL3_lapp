{
 "cells": [
  {
   "cell_type": "code",
   "execution_count": 1,
   "id": "633701a3",
   "metadata": {},
   "outputs": [],
   "source": [
    "import numpy as np\n",
    "import matplotlib.pyplot as plt\n",
    "from astropy.coordinates import SkyCoord, Angle\n",
    "from regions import CircleSkyRegion\n",
    "from gammapy.makers import ReflectedRegionsFinder\n",
    "from gammapy.maps import MapAxis, WcsGeom"
   ]
  },
  {
   "cell_type": "code",
   "execution_count": 8,
   "id": "41fa2505",
   "metadata": {},
   "outputs": [
    {
     "name": "stdout",
     "output_type": "stream",
     "text": [
      "OFF region distance of source :  [0.57339878112407, 0.7061108151293467, 0.5944023798726865]\n"
     ]
    }
   ],
   "source": [
    "offset = 0.4\n",
    "src_RA = 300.3\n",
    "src_DEC = -28.\n",
    "pnt_RA = src_RA + offset\n",
    "pnt_DEC = src_DEC\n",
    "\n",
    "On_size = 0.2\n",
    "Exclusion_size = 0.35\n",
    "\n",
    "\n",
    "pointing = SkyCoord(pnt_RA, pnt_DEC, unit='deg', frame='icrs')\n",
    "target_position = SkyCoord(src_RA, src_DEC, unit='deg', frame='icrs')\n",
    "On_size_angle = Angle(On_size, 'deg')\n",
    "Exclusion_size_angle = Angle(Exclusion_size, 'deg')\n",
    "\n",
    "exclusion_mask = CircleSkyRegion(target_position, Exclusion_size_angle)\n",
    "on_region = CircleSkyRegion(target_position, On_size_angle)\n",
    "\n",
    "geom = WcsGeom.create(skydir=target_position, npix=(200, 200), binsz=0.02, frame=\"icrs\")\n",
    "geom_image = geom.to_image()\n",
    "exclusion_mask = ~geom_image.region_mask([exclusion_mask])\n",
    "\n",
    "finder = ReflectedRegionsFinder(region=on_region, center=pointing, exclusion_mask=exclusion_mask)\n",
    "\n",
    "Regions = finder.run()\n",
    "\n",
    "OFF_region_radius_pos = []\n",
    "for i in range(len(Regions)):\n",
    "    OFF_region_radius_pos.append(Regions[i].center.separation(target_position).deg)\n",
    "    \n",
    "print(\"OFF region distance of source : \", OFF_region_radius_pos)"
   ]
  },
  {
   "cell_type": "code",
   "execution_count": 9,
   "id": "9974677d",
   "metadata": {},
   "outputs": [],
   "source": [
    "def pollution(PSF_68_containment):\n",
    "    Nevents = 1000000\n",
    "    width = PSF_68_containment/1.51\n",
    "    \n",
    "    mean = [0, 0]\n",
    "    cov = [[width**2, 0], [0, width**2]]\n",
    "    \n",
    "    events = np.random.multivariate_normal((0,0), cov, Nevents)\n",
    "    \n",
    "    #plt.scatter(events[:,0],events[:,1])\n",
    "    \n",
    "    OFF_event = len(OFF_region_radius_pos)*[0]\n",
    "    ON_event = 0\n",
    "    Containment_event = 0\n",
    "    OFF_event_pollution = 0\n",
    "    \n",
    "    for i in range(Nevents):\n",
    "        if (np.sqrt((events[:,0][i])**2 + events[:,1][i]**2) < width*1.51):\n",
    "            Containment_event += 1\n",
    "        if (np.sqrt((events[:,0][i])**2 + events[:,1][i]**2) < On_size):\n",
    "            ON_event += 1\n",
    "        for j in range(len(OFF_region_radius_pos)):\n",
    "            if (np.sqrt((events[:,0][i]-OFF_region_radius_pos[j])**2 + events[:,1][i]**2) < On_size):\n",
    "                OFF_event[j] += 1\n",
    "        OFF_event_pollution = np.sum(OFF_event)/len(OFF_event)\n",
    "            \n",
    "            \n",
    "            \n",
    "    print(\"The level of pollution is \", 100*OFF_event_pollution/ON_event, \"%\")\n",
    "    return OFF_event_pollution/ON_event"
   ]
  },
  {
   "cell_type": "code",
   "execution_count": 4,
   "id": "5891a7f1",
   "metadata": {},
   "outputs": [
    {
     "name": "stdout",
     "output_type": "stream",
     "text": [
      "The level of pollution is  0.0 %\n",
      "The level of pollution is  0.10567033793932554 %\n",
      "The level of pollution is  2.3596059608979583 %\n",
      "The level of pollution is  9.49292111912071 %\n",
      "The level of pollution is  20.312127065119068 %\n",
      "The level of pollution is  51.52926721907001 %\n",
      "The level of pollution is  64.84021334767604 %\n"
     ]
    }
   ],
   "source": [
    "PSF = [0.1,0.2,0.3,0.4,0.5,0.8,1.]\n",
    "poll = []\n",
    "for i in range(len(PSF)):\n",
    "    poll.append(pollution(PSF[i]))"
   ]
  },
  {
   "cell_type": "code",
   "execution_count": 5,
   "id": "c30600f0",
   "metadata": {},
   "outputs": [
    {
     "data": {
      "text/plain": [
       "Text(0, 0.5, 'pollution ratio')"
      ]
     },
     "execution_count": 5,
     "metadata": {},
     "output_type": "execute_result"
    },
    {
     "data": {
      "image/png": "[encoded data removed]",
      "text/plain": [
       "<Figure size 432x288 with 1 Axes>"
      ]
     },
     "metadata": {
      "needs_background": "light"
     },
     "output_type": "display_data"
    }
   ],
   "source": [
    "plt.plot(PSF,poll)\n",
    "plt.xlabel(\"PSF 68% containment (deg)\")\n",
    "plt.ylabel(\"pollution ratio\")\n",
    "#plt.yscale(\"log\")"
   ]
  },
  {
   "cell_type": "code",
   "execution_count": null,
   "id": "141312de",
   "metadata": {},
   "outputs": [],
   "source": []
  }
 ],
 "metadata": {
  "kernelspec": {
   "display_name": "Python 3",
   "language": "python",
   "name": "python3"
  },
  "language_info": {
   "codemirror_mode": {
    "name": "ipython",
    "version": 3
   },
   "file_extension": ".py",
   "mimetype": "text/x-python",
   "name": "python",
   "nbconvert_exporter": "python",
   "pygments_lexer": "ipython3",
   "version": "3.8.8"
  }
 },
 "nbformat": 4,
 "nbformat_minor": 5
}
